{
 "cells": [
  {
   "cell_type": "markdown",
   "metadata": {},
   "source": [
    "# Create a dashboard to track the annotation efforts\n",
    "\n",
    "Once you have your annotation suite running on a Hugging Face Space, you can easily set up an dashboard for tracking the annotation effort. Check out how the Spanish one looks like!\n",
    "\n",
    "![](attachment:df152c96-d05f-4d35-a0ca-0dbc81a1dcad.png)"
   ]
  },
  {
   "cell_type": "markdown",
   "metadata": {},
   "source": [
    "There are some variables that you need to gather first, as they are used to obtain the data from the annotation space. They are:\n",
    "\n",
    "- `SOURCE_DATASET`: The string name of your dataset, for example the Spanish team uses `DIBT Translation for es`. \n",
    "- `SOURCE_WORKSPACE`: The workspace id of the source dataset (unless otherwise specified, this will be `admin`)\n",
    "- `TARGET_RECORDS`: The number of records that you have as a target to annotate. We usually set this to 500.\n",
    "- `ARGILLA_API_URL`: Link to the Huggingface Space where the annotation effort is being hosted. For example, the Spanish one is https://somosnlp-dibt-prompt-translation-for-es.hf.space/\n",
    "- `ARGILLA_API_KEY`: The API key to access the Huggingface Space. Please, write this as a secret in the Huggingface Space configuration. You can access this key by logging in to your Ariglla Space, clicking your user avatar in the upper-right corner, selected _My Settings_ and navigating to the API Key parameter. Click **Copy Key** to copy the required data.\n",
    "\n",
    "Once this is done, you can find an example of a dashboard application in the folder `dashboard_template`. With a few tweaks, it'll be up and running.\n",
    "\n",
    "First, within your organization, please create a new Hugging Face Space with Gradio. The free configuration is enough. Then, set the previous variables as environment variables within the Space configuration, with `ARGILLA_API_KEY` as a secret. \n",
    "\n",
    "Then, you have to upload and push the dashboard template. There are several ways to do it, but we recommend either uploading it directly through the Hugging Face Space website, or cloning the repository and pushing it from your favorite code editor. Note that the template needs to be translated to the language of your choice, both the constants at the beginning of `app.py` and the Markdown content at the end of the same file. Push it, and the dashboard should be ready!\n",
    "\n",
    "Do not hesitate to share with us the `API URL`, `API KEY`, `DATASET NAME` and `WORKSPACE NAME` of your annotation suite and your dashboard, and we will include the details of your annotation effort in our global tracker and our GitHub page. You can reach out to @davidberenstein1957 (David Berenstein), @.dvs13 (Daniel van Strien) and @ignacioct (Ignacio Talavera) in the 🤗 [Hugging Face Discord Channel](https://discord.gg/hugging-face-879548962464493619)."
   ]
  }
 ],
 "metadata": {
  "language_info": {
   "name": "python"
  }
 },
 "nbformat": 4,
 "nbformat_minor": 2
}
