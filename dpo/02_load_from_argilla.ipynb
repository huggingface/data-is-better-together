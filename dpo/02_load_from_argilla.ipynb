{
 "cells": [
  {
   "cell_type": "code",
   "execution_count": 45,
   "metadata": {},
   "outputs": [
    {
     "data": {
      "text/plain": [
       "True"
      ]
     },
     "execution_count": 45,
     "metadata": {},
     "output_type": "execute_result"
    }
   ],
   "source": [
    "import argilla as rg\n",
    "from dotenv import load_dotenv\n",
    "import os\n",
    "\n",
    "load_dotenv()"
   ]
  },
  {
   "cell_type": "code",
   "execution_count": 46,
   "metadata": {},
   "outputs": [],
   "source": [
    "ARGILLA_SPACE_URL = (\n",
    "    \"https://dibt-demo-argilla-space.hf.space\"  # The URL for the Argilla space\n",
    ")\n",
    "ARGILLA_DATASET_NAME = \"aya_dutch_dpo\"  # The dataset name in the Argilla space\n",
    "ARGILLA_WORKSPACE_NAME = \"admin\"\n",
    "ARGILLA_API_KEY = os.getenv(\"ARGILLA_API_KEY\")\n",
    "\n",
    "# Check if the API key is set\n",
    "assert (\n",
    "    ARGILLA_API_KEY is not None\n",
    "), \"Please set the ARGILLA_API_KEY environment variable or pass it as a parameter\""
   ]
  },
  {
   "cell_type": "code",
   "execution_count": 47,
   "metadata": {},
   "outputs": [],
   "source": [
    "rg.init(\n",
    "    api_url=ARGILLA_SPACE_URL, api_key=ARGILLA_API_KEY, workspace=ARGILLA_WORKSPACE_NAME\n",
    ")"
   ]
  },
  {
   "cell_type": "code",
   "execution_count": 48,
   "metadata": {},
   "outputs": [],
   "source": [
    "argilla_ds = rg.FeedbackDataset.from_argilla(ARGILLA_DATASET_NAME)"
   ]
  },
  {
   "cell_type": "code",
   "execution_count": 49,
   "metadata": {},
   "outputs": [
    {
     "data": {
      "text/plain": [
       "RemoteFeedbackDataset(\n",
       "   id=6a6fdd31-6ce5-4f32-9131-af1c8e33987c\n",
       "   name=aya_dutch_dpo\n",
       "   workspace=Workspace(id=2d3f0ffc-b5f5-43e6-a36b-352d0685df7b, name=admin, inserted_at=2024-04-19 10:17:00.524980, updated_at=2024-04-19 10:17:00.524980)\n",
       "   url=https://dibt-demo-argilla-space.hf.space/dataset/6a6fdd31-6ce5-4f32-9131-af1c8e33987c/annotation-mode\n",
       "   fields=[RemoteTextField(id=UUID('eae01c1b-acc9-482b-a1ba-f4addcd86b1c'), client=None, name='id', title='id', required=True, type='text', use_markdown=False), RemoteTextField(id=UUID('c03820ea-d6a3-499e-89e6-13cb92cf49e4'), client=None, name='instruction', title='instruction', required=True, type='text', use_markdown=False), RemoteTextField(id=UUID('8ae32a6a-9389-4b86-bb88-16982597373e'), client=None, name='generations-0', title='generations-0', required=True, type='text', use_markdown=False), RemoteTextField(id=UUID('6dcf775a-bea7-4d97-bd76-7db971e4680a'), client=None, name='generations-1', title='generations-1', required=False, type='text', use_markdown=False)]\n",
       "   questions=[RemoteRatingQuestion(id=UUID('4e290dbb-a0f2-4a8e-a7ef-00abcace7d7b'), client=None, name='generations-0-rating', title='Rate generations-0 given instruction based on the annotation guidelines.', description=None, required=True, type='rating', values=[1, 2, 3, 4, 5]), RemoteTextQuestion(id=UUID('57e11a1b-9c08-47ae-958d-ee27a8b17a78'), client=None, name='generations-0-rationale', title=\"Specify the rationale for generations-0's rating.\", description=None, required=False, type='text', use_markdown=False), RemoteRatingQuestion(id=UUID('1eeb17af-5d16-49f4-96bd-bd132cfd2d2e'), client=None, name='generations-1-rating', title='Rate generations-1 given instruction based on the annotation guidelines.', description='Ignore this question if the corresponding `generations-1` field is not available.', required=False, type='rating', values=[1, 2, 3, 4, 5]), RemoteTextQuestion(id=UUID('976cb011-5882-415d-bf6a-81304eafb1a6'), client=None, name='generations-1-rationale', title=\"Specify the rationale for generations-1's rating.\", description='Ignore this question if the corresponding `generations-1` field is not available.', required=False, type='text', use_markdown=False), RemoteTextQuestion(id=UUID('2959189f-d32f-48c2-84ea-7a71c5f2e362'), client=None, name='improved_response', title='How would you improve the response?', description=None, required=False, type='text', use_markdown=False)]\n",
       "   guidelines=None\n",
       "   metadata_properties=[RemoteTermsMetadataProperty(id=UUID('a95cce4a-9ce8-41aa-b7f1-956bf5902ae7'), client=<httpx.Client object at 0x137f40490>, name='predicted_generation_language', title='predicted_generation_language', visible_for_annotators=True, type='terms', values=None), RemoteFloatMetadataProperty(id=UUID('796ec14f-6019-4f0a-b5c0-7ecc9a04b4f8'), client=<httpx.Client object at 0x137f40490>, name='predicted_generation_language_score', title='predicted_generation_language_score', visible_for_annotators=True, type='float', min=0.0, max=1.0)]\n",
       "   vectors_settings=[]\n",
       ")"
      ]
     },
     "execution_count": 49,
     "metadata": {},
     "output_type": "execute_result"
    }
   ],
   "source": [
    "argilla_ds"
   ]
  },
  {
   "cell_type": "code",
   "execution_count": 78,
   "metadata": {},
   "outputs": [],
   "source": [
    "ds = argilla_ds.format_as('datasets')"
   ]
  },
  {
   "cell_type": "code",
   "execution_count": 79,
   "metadata": {},
   "outputs": [
    {
     "data": {
      "text/plain": [
       "Dataset({\n",
       "    features: ['id', 'instruction', 'generations-0', 'generations-1', 'generations-0-rating', 'generations-0-rating-suggestion', 'generations-0-rating-suggestion-metadata', 'generations-0-rationale', 'generations-0-rationale-suggestion', 'generations-0-rationale-suggestion-metadata', 'generations-1-rating', 'generations-1-rating-suggestion', 'generations-1-rating-suggestion-metadata', 'generations-1-rationale', 'generations-1-rationale-suggestion', 'generations-1-rationale-suggestion-metadata', 'improved_response', 'improved_response-suggestion', 'improved_response-suggestion-metadata', 'external_id', 'metadata'],\n",
       "    num_rows: 1360\n",
       "})"
      ]
     },
     "execution_count": 79,
     "metadata": {},
     "output_type": "execute_result"
    }
   ],
   "source": [
    "ds"
   ]
  },
  {
   "cell_type": "code",
   "execution_count": 80,
   "metadata": {},
   "outputs": [
    {
     "data": {
      "text/plain": [
       "{'id': 'fd8a365561542e91728ceea4c987a8ae63144d9a5dda20dac0a93c71d2916d1d',\n",
       " 'instruction': 'Schrijf een voortzetting van de paragraaf: Op de Olympische Zomerspelen van 1992 in Barcelona, Spanje strandde Heyns in de series van de 100 meter schoolslag. Samen met Jill Brukman, Jeanine Steenkamp en Marianne Kriel werd ze uitgeschakeld in de series van de 4x100 meter wisselslag. Tijdens de Gemenebestspelen 1994',\n",
       " 'generations-0': 'in Victoria, Canada sleepte de Zuid-Afrikaanse de bronzen medaille in de wacht op de 100 meter schoolslag. In Rome, Italië nam Heyns deel aan de Wereldkampioenschappen zwemmen 1994, op dit toernooi eindigde ze als zesde op de 100 meter schoolslag en als dertiende op de 200 meter schoolslag. Op de Pan Pacific kampioenschappen zwemmen 1995 in Atlanta, Verenigde Staten veroverde de Zuid-Afrikaanse de gouden medaille op de 100 meter schoolslag en de zilveren medaille op de 200 meter schoolslag. Tijdens de Olympische Zomerspelen 1996 in Atlanta, Verenigde Staten veroverde Heyns olympisch goud op zowel de 100 als de 200 meter schoolslag. Samen met Marianne Kriel, Amanda Loots en Helene Muller eindigde ze als vierde op de 4x100 meter wisselslag.',\n",
       " 'generations-1': 'Tijdens de Gemenebestspelen 1994 in Victoria, Canada, slaagde Heyns erin om door te dringen tot de halve finales van de 100 meter schoolslag en de 200 meter schoolslag. Ook maakte ze deel uit van de Zuid-Afrikaanse estafetteploeg op de 4x100 meter wisselslag, die de achtste plaats behaalde. Twee jaar later, op de Olympische Zomerspelen van 1996 in Atlanta, Verenigde Staten, bereikte Heyns de finale van de 100 meter schoolslag en eindigde als zesde. Naast haar individuele prestaties, hielp ze het Zuid-Afrikaanse estafette-team om de zevende plaats te behalen op de 4x100 meter wisselslag.',\n",
       " 'generations-0-rating': [],\n",
       " 'generations-0-rating-suggestion': 5,\n",
       " 'generations-0-rating-suggestion-metadata': {'type': None,\n",
       "  'score': None,\n",
       "  'agent': None},\n",
       " 'generations-0-rationale': [],\n",
       " 'generations-0-rationale-suggestion': \"The text provides accurate and detailed information about Heyns' performance in various swimming competitions, including the 1994 Gemenebestspelen, the 1994 World Championships, the 1995 Pan Pacific Championships, and the 1996 Olympic Games. The text conveys confidence and does not express uncertainty or introduce misleading details. It aligns perfectly with the given instruction and provides a coherent continuation of the original paragraph.\",\n",
       " 'generations-0-rationale-suggestion-metadata': {'type': None,\n",
       "  'score': None,\n",
       "  'agent': None},\n",
       " 'generations-1-rating': [],\n",
       " 'generations-1-rating-suggestion': 2,\n",
       " 'generations-1-rating-suggestion-metadata': {'type': None,\n",
       "  'score': None,\n",
       "  'agent': None},\n",
       " 'generations-1-rationale': [],\n",
       " 'generations-1-rationale-suggestion': \"The text provides some accurate information about Heyns' performance in the 1994 Gemenebestspelen and the 1996 Olympic Games. However, it lacks detail and omits important information about her achievements, such as winning gold medals in the 100m and 200m breaststroke events. The text appears to be partially aligned with the instruction, but it does not provide a comprehensive continuation of the original paragraph.\",\n",
       " 'generations-1-rationale-suggestion-metadata': {'type': None,\n",
       "  'score': None,\n",
       "  'agent': None},\n",
       " 'improved_response': [],\n",
       " 'improved_response-suggestion': None,\n",
       " 'improved_response-suggestion-metadata': {'type': None,\n",
       "  'score': None,\n",
       "  'agent': None},\n",
       " 'external_id': None,\n",
       " 'metadata': '{\"predicted_generation_language\": \"nld_Latn\", \"predicted_generation_language_score\": 0.9832438826560974}'}"
      ]
     },
     "execution_count": 80,
     "metadata": {},
     "output_type": "execute_result"
    }
   ],
   "source": [
    "ds[0]"
   ]
  },
  {
   "cell_type": "code",
   "execution_count": 81,
   "metadata": {},
   "outputs": [
    {
     "data": {
      "application/vnd.jupyter.widget-view+json": {
       "model_id": "284d9a4b7adb4f168b46cac358e3847a",
       "version_major": 2,
       "version_minor": 0
      },
      "text/plain": [
       "Filter:   0%|          | 0/1360 [00:00<?, ? examples/s]"
      ]
     },
     "metadata": {},
     "output_type": "display_data"
    },
    {
     "data": {
      "application/vnd.jupyter.widget-view+json": {
       "model_id": "dd108d7e33f641c4849b2506a4c45618",
       "version_major": 2,
       "version_minor": 0
      },
      "text/plain": [
       "Filter:   0%|          | 0/1360 [00:00<?, ? examples/s]"
      ]
     },
     "metadata": {},
     "output_type": "display_data"
    },
    {
     "data": {
      "application/vnd.jupyter.widget-view+json": {
       "model_id": "cf408e853cfe42cba47cc6ff786a2b77",
       "version_major": 2,
       "version_minor": 0
      },
      "text/plain": [
       "Filter:   0%|          | 0/1356 [00:00<?, ? examples/s]"
      ]
     },
     "metadata": {},
     "output_type": "display_data"
    },
    {
     "data": {
      "text/plain": [
       "Dataset({\n",
       "    features: ['id', 'instruction', 'generations-0', 'generations-1', 'generations-0-rating', 'generations-0-rating-suggestion', 'generations-0-rating-suggestion-metadata', 'generations-0-rationale', 'generations-0-rationale-suggestion', 'generations-0-rationale-suggestion-metadata', 'generations-1-rating', 'generations-1-rating-suggestion', 'generations-1-rating-suggestion-metadata', 'generations-1-rationale', 'generations-1-rationale-suggestion', 'generations-1-rationale-suggestion-metadata', 'improved_response', 'improved_response-suggestion', 'improved_response-suggestion-metadata', 'external_id', 'metadata'],\n",
       "    num_rows: 1352\n",
       "})"
      ]
     },
     "execution_count": 81,
     "metadata": {},
     "output_type": "execute_result"
    }
   ],
   "source": [
    "ds = ds.filter(lambda x: len(x['generations-1'])>0)\n",
    "ds = ds.filter(lambda x: x['generations-0-rating-suggestion'] is not None or [])\n",
    "ds = ds.filter(lambda x: x['generations-1-rating-suggestion'] is not None or [])\n",
    "ds"
   ]
  },
  {
   "cell_type": "code",
   "execution_count": 85,
   "metadata": {},
   "outputs": [],
   "source": [
    "def formatted_as_messages(prompt, completion):\n",
    "    return [{\"role\": \"user\", \"content\": prompt}, {\"role\": \"assistant\", \"content\": completion}]"
   ]
  },
  {
   "cell_type": "markdown",
   "metadata": {},
   "source": [
    "If we don't have any additional annotations for our preferences and we're just relying on the feedback LM then we can use this function to format the dataset for DPO/ORPO. This function will grab the highest rated generation and set that as chosen. If there is a tie in the ratings then the `tie` value will be set as `True`. We can then decide to filter out the ties or keep them in the dataset."
   ]
  },
  {
   "cell_type": "code",
   "execution_count": 86,
   "metadata": {},
   "outputs": [],
   "source": [
    "def format_for_dpo(row, format_messages=True):\n",
    "    prompt = row[\"instruction\"]\n",
    "    generation_0 = row.get(\"generations-0\")\n",
    "    generation_1 = row.get(\"generations-1\")\n",
    "    generation_0_ranking = row.get(\"generations-0-rating-suggestion\")\n",
    "    generation_1_ranking = row.get(\"generations-1-rating-suggestion\")\n",
    "    tie = False\n",
    "    # take max of generations-0-rating-suggestion and generations-1-rating-suggestion\n",
    "    if generation_0_ranking > generation_1_ranking:\n",
    "        chosen = generation_0\n",
    "        rejected = generation_1\n",
    "    if generation_0_ranking < generation_1_ranking:\n",
    "        chosen = generation_1\n",
    "        rejected = generation_0\n",
    "    if generation_0_ranking == generation_1_ranking:\n",
    "        chosen = generation_0\n",
    "        rejected = generation_1\n",
    "        tie = True\n",
    "\n",
    "    if not format_messages:\n",
    "        return {\"chosen\": chosen, \"rejected\": rejected, \"tie\": tie, \"prompt\": prompt}\n",
    "    chosen = formatted_as_messages(prompt, chosen)\n",
    "    rejected = formatted_as_messages(prompt, rejected)\n",
    "    return {\"chosen\": chosen, \"rejected\": rejected, \"tie\": tie}\n"
   ]
  },
  {
   "cell_type": "code",
   "execution_count": 87,
   "metadata": {},
   "outputs": [
    {
     "data": {
      "application/vnd.jupyter.widget-view+json": {
       "model_id": "ce27d83eb06c4ccfad83d26b4aed82c7",
       "version_major": 2,
       "version_minor": 0
      },
      "text/plain": [
       "Map:   0%|          | 0/1352 [00:00<?, ? examples/s]"
      ]
     },
     "metadata": {},
     "output_type": "display_data"
    },
    {
     "data": {
      "text/plain": [
       "Dataset({\n",
       "    features: ['id', 'instruction', 'generations-0', 'generations-1', 'generations-0-rating', 'generations-0-rating-suggestion', 'generations-0-rating-suggestion-metadata', 'generations-0-rationale', 'generations-0-rationale-suggestion', 'generations-0-rationale-suggestion-metadata', 'generations-1-rating', 'generations-1-rating-suggestion', 'generations-1-rating-suggestion-metadata', 'generations-1-rationale', 'generations-1-rationale-suggestion', 'generations-1-rationale-suggestion-metadata', 'improved_response', 'improved_response-suggestion', 'improved_response-suggestion-metadata', 'external_id', 'metadata'],\n",
       "    num_rows: 1352\n",
       "})"
      ]
     },
     "execution_count": 87,
     "metadata": {},
     "output_type": "execute_result"
    }
   ],
   "source": [
    "ds_messages = ds.map(\n",
    "    format_for_dpo,\n",
    "    remove_columns=[\n",
    "        column\n",
    "        for column in ds.column_names\n",
    "        if column not in {\"chosen\", \"rejected\", \"id\", \"tie\"}\n",
    "    ],\n",
    "    fn_kwargs={\"format_messages\": True},\n",
    ")\n",
    "ds"
   ]
  },
  {
   "cell_type": "code",
   "execution_count": 89,
   "metadata": {},
   "outputs": [
    {
     "data": {
      "text/plain": [
       "{'id': 'fd8a365561542e91728ceea4c987a8ae63144d9a5dda20dac0a93c71d2916d1d',\n",
       " 'chosen': [{'content': 'Schrijf een voortzetting van de paragraaf: Op de Olympische Zomerspelen van 1992 in Barcelona, Spanje strandde Heyns in de series van de 100 meter schoolslag. Samen met Jill Brukman, Jeanine Steenkamp en Marianne Kriel werd ze uitgeschakeld in de series van de 4x100 meter wisselslag. Tijdens de Gemenebestspelen 1994',\n",
       "   'role': 'user'},\n",
       "  {'content': 'in Victoria, Canada sleepte de Zuid-Afrikaanse de bronzen medaille in de wacht op de 100 meter schoolslag. In Rome, Italië nam Heyns deel aan de Wereldkampioenschappen zwemmen 1994, op dit toernooi eindigde ze als zesde op de 100 meter schoolslag en als dertiende op de 200 meter schoolslag. Op de Pan Pacific kampioenschappen zwemmen 1995 in Atlanta, Verenigde Staten veroverde de Zuid-Afrikaanse de gouden medaille op de 100 meter schoolslag en de zilveren medaille op de 200 meter schoolslag. Tijdens de Olympische Zomerspelen 1996 in Atlanta, Verenigde Staten veroverde Heyns olympisch goud op zowel de 100 als de 200 meter schoolslag. Samen met Marianne Kriel, Amanda Loots en Helene Muller eindigde ze als vierde op de 4x100 meter wisselslag.',\n",
       "   'role': 'assistant'}],\n",
       " 'rejected': [{'content': 'Schrijf een voortzetting van de paragraaf: Op de Olympische Zomerspelen van 1992 in Barcelona, Spanje strandde Heyns in de series van de 100 meter schoolslag. Samen met Jill Brukman, Jeanine Steenkamp en Marianne Kriel werd ze uitgeschakeld in de series van de 4x100 meter wisselslag. Tijdens de Gemenebestspelen 1994',\n",
       "   'role': 'user'},\n",
       "  {'content': 'Tijdens de Gemenebestspelen 1994 in Victoria, Canada, slaagde Heyns erin om door te dringen tot de halve finales van de 100 meter schoolslag en de 200 meter schoolslag. Ook maakte ze deel uit van de Zuid-Afrikaanse estafetteploeg op de 4x100 meter wisselslag, die de achtste plaats behaalde. Twee jaar later, op de Olympische Zomerspelen van 1996 in Atlanta, Verenigde Staten, bereikte Heyns de finale van de 100 meter schoolslag en eindigde als zesde. Naast haar individuele prestaties, hielp ze het Zuid-Afrikaanse estafette-team om de zevende plaats te behalen op de 4x100 meter wisselslag.',\n",
       "   'role': 'assistant'}],\n",
       " 'tie': False}"
      ]
     },
     "execution_count": 89,
     "metadata": {},
     "output_type": "execute_result"
    }
   ],
   "source": [
    "ds_messages[0]"
   ]
  },
  {
   "cell_type": "code",
   "execution_count": 91,
   "metadata": {},
   "outputs": [
    {
     "data": {
      "application/vnd.jupyter.widget-view+json": {
       "model_id": "c6dc1d11f7f044ed96cbab9e7d520f8b",
       "version_major": 2,
       "version_minor": 0
      },
      "text/plain": [
       "Map:   0%|          | 0/1352 [00:00<?, ? examples/s]"
      ]
     },
     "metadata": {},
     "output_type": "display_data"
    },
    {
     "data": {
      "text/plain": [
       "Dataset({\n",
       "    features: ['id', 'chosen', 'rejected', 'tie', 'prompt'],\n",
       "    num_rows: 1352\n",
       "})"
      ]
     },
     "execution_count": 91,
     "metadata": {},
     "output_type": "execute_result"
    }
   ],
   "source": [
    "ds_not_formatted = ds.map(\n",
    "    format_for_dpo,\n",
    "    remove_columns=[\n",
    "        column\n",
    "        for column in ds.column_names\n",
    "        if column not in {\"chosen\", \"rejected\", \"id\", \"tie\", \"prompt\"}\n",
    "    ],\n",
    "    fn_kwargs={\"format_messages\": False},\n",
    ")\n",
    "ds_not_formatted"
   ]
  },
  {
   "cell_type": "code",
   "execution_count": 92,
   "metadata": {},
   "outputs": [
    {
     "data": {
      "application/vnd.jupyter.widget-view+json": {
       "model_id": "c8c66502e5e342debaee8df9db4112d8",
       "version_major": 2,
       "version_minor": 0
      },
      "text/plain": [
       "Filter:   0%|          | 0/1352 [00:00<?, ? examples/s]"
      ]
     },
     "metadata": {},
     "output_type": "display_data"
    },
    {
     "data": {
      "application/vnd.jupyter.widget-view+json": {
       "model_id": "8bbbf38d367a4e0886f131a73844aeb4",
       "version_major": 2,
       "version_minor": 0
      },
      "text/plain": [
       "Filter:   0%|          | 0/1352 [00:00<?, ? examples/s]"
      ]
     },
     "metadata": {},
     "output_type": "display_data"
    }
   ],
   "source": [
    "ds_messages = ds_messages.filter(lambda row: row[\"tie\"] is False)\n",
    "ds_not_formatted = ds_not_formatted.filter(lambda row: row[\"tie\"] is False)"
   ]
  },
  {
   "cell_type": "code",
   "execution_count": 93,
   "metadata": {},
   "outputs": [],
   "source": [
    "ds_messages = ds_messages.remove_columns(\"tie\")\n",
    "ds_not_formatted = ds_not_formatted.remove_columns(\"tie\")"
   ]
  },
  {
   "cell_type": "code",
   "execution_count": 95,
   "metadata": {},
   "outputs": [
    {
     "data": {
      "application/vnd.jupyter.widget-view+json": {
       "model_id": "6402af1351754639b94c0463ad095f70",
       "version_major": 2,
       "version_minor": 0
      },
      "text/plain": [
       "Uploading the dataset shards:   0%|          | 0/1 [00:00<?, ?it/s]"
      ]
     },
     "metadata": {},
     "output_type": "display_data"
    },
    {
     "data": {
      "application/vnd.jupyter.widget-view+json": {
       "model_id": "3da2c2a3cfb74ea3b0c5a92457425ccd",
       "version_major": 2,
       "version_minor": 0
      },
      "text/plain": [
       "Creating parquet from Arrow format:   0%|          | 0/2 [00:00<?, ?ba/s]"
      ]
     },
     "metadata": {},
     "output_type": "display_data"
    },
    {
     "data": {
      "application/vnd.jupyter.widget-view+json": {
       "model_id": "f2333fdfad2b427dbda61f14408af94c",
       "version_major": 2,
       "version_minor": 0
      },
      "text/plain": [
       "README.md:   0%|          | 0.00/4.09k [00:00<?, ?B/s]"
      ]
     },
     "metadata": {},
     "output_type": "display_data"
    },
    {
     "data": {
      "text/plain": [
       "CommitInfo(commit_url='https://huggingface.co/datasets/DIBT/aya_dutch_dpo/commit/99ff668463c4af929865a387c6eae6326cc1d0f2', commit_message='Upload dataset', commit_description='', oid='99ff668463c4af929865a387c6eae6326cc1d0f2', pr_url=None, pr_revision=None, pr_num=None)"
      ]
     },
     "execution_count": 95,
     "metadata": {},
     "output_type": "execute_result"
    }
   ],
   "source": [
    "ds_messages.push_to_hub(\"DIBT/aya_dutch_dpo\")"
   ]
  },
  {
   "cell_type": "markdown",
   "metadata": {},
   "source": [
    "## Formatting using additional preference annotations\n",
    "\n",
    "If we have additional annotations for our preferences then we can use this function to format the dataset for DPO/ORPO. This function will look to see if there are any human ratings and use that if it's present. If either or both ratings have not been completed by the human raters it will use the LLM rating. If there is a tie in the ratings then the `tie` value will be set as `True`. We can then decide to filter out the ties or keep them in the dataset.\n"
   ]
  },
  {
   "cell_type": "code",
   "execution_count": 44,
   "metadata": {},
   "outputs": [],
   "source": [
    "def process_dataset(row):\n",
    "    prompt = row['instruction']\n",
    "    generation_0 = row.get('generations-0')\n",
    "    generation_1 = row.get('generations-1')\n",
    "    # If we have non empty rating from the user, we calculate the average rating and use this as the rating\n",
    "    if row[\"generations-0-rating\"]:\n",
    "        generations_0_rating = sum(row[\"generations-0-rating\"]) / len(row[\"generations-0-rating\"])\n",
    "    else:\n",
    "        generations_0_rating = row['generations-0-rating-suggestion']\n",
    "    if row[\"generations-1-rating\"]:\n",
    "        generations_1_rating = sum(row[\"generations-1-rating\"]) / len(row[\"generations-1-rating\"])\n",
    "    else:\n",
    "        generations_1_rating = row['generations-1-rating-suggestion']\n",
    "    tie = False\n",
    "    # take max of generations-0-rating-suggestion and generations-1-rating-suggestion\n",
    "    if generations_0_rating > generations_1_rating:\n",
    "        chosen = generation_0\n",
    "        rejected = generation_1\n",
    "    if generations_0_rating < generations_1_rating:\n",
    "        chosen = generation_1\n",
    "        rejected = generation_0\n",
    "    if generations_0_rating == generations_1_rating:\n",
    "        chosen = generation_0\n",
    "        rejected = generation_1\n",
    "        tie = True\n",
    "    # Format the data using messages format\n",
    "    prompt = row[\"instruction\"]\n",
    "    result = {\"chosen\": formatted_as_messages(prompt, chosen)}\n",
    "    result[\"rejected\"] = formatted_as_messages(prompt,rejected)\n",
    "    result[\"tie\"] = tie\n",
    "    return result"
   ]
  }
 ],
 "metadata": {
  "kernelspec": {
   "display_name": ".venv",
   "language": "python",
   "name": "python3"
  },
  "language_info": {
   "codemirror_mode": {
    "name": "ipython",
    "version": 3
   },
   "file_extension": ".py",
   "mimetype": "text/x-python",
   "name": "python",
   "nbconvert_exporter": "python",
   "pygments_lexer": "ipython3",
   "version": "3.11.1"
  }
 },
 "nbformat": 4,
 "nbformat_minor": 2
}
